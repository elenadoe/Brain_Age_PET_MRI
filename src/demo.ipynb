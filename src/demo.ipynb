{
 "cells": [
  {
   "cell_type": "markdown",
   "metadata": {},
   "source": [
    "# Demonstration of Analyses for \"Comparison of Structural and Metabolic Biomarkers of Neurodegeneration for Brain Age Prediction\"\n",
    "\n",
    "**Steps of Analysis:**\\\n",
    "1 - bias-correction\\\n",
    "2 - brain age prediction in cognitively normals (CN)\\\n",
    "2.1 - validation of brain age prediction in CN\\\n",
    "3 - brain age prediction in individuals with mild cognitive impairment (MCI)\\\n",
    "4 - association with cognitive performance/neuropathology\n",
    "\n",
    "Examplary demonstration for PET modality"
   ]
  },
  {
   "cell_type": "code",
   "execution_count": null,
   "metadata": {},
   "outputs": [],
   "source": [
    "from brain_age_main import main\n",
    "modality = 'PET'"
   ]
  },
  {
   "cell_type": "markdown",
   "metadata": {},
   "source": [
    "### Bias-correction\n",
    "Comparison of no bia-correction ('None'), correction with chronological age (CA, 'True'), and correction without CA ('False')."
   ]
  },
  {
   "cell_type": "code",
   "execution_count": null,
   "metadata": {},
   "outputs": [],
   "source": [
    "main(1, modality)"
   ]
  },
  {
   "cell_type": "markdown",
   "metadata": {},
   "source": [
    "## Brain age prediction in CN"
   ]
  },
  {
   "cell_type": "code",
   "execution_count": null,
   "metadata": {},
   "outputs": [],
   "source": [
    "main(2, modality)"
   ]
  },
  {
   "cell_type": "code",
   "execution_count": null,
   "metadata": {},
   "outputs": [],
   "source": [
    "import pandas as pd\n",
    "import pickle\n",
    "import matplotlib.pyplot as plt\n",
    "import numpy as np\n",
    "pet_age = pd.read_csv('../results/CN/PET-predicted_age_CN.csv')\n",
    "mri_age = pd.read_csv('../results/CN/MRI-predicted_age_CN.csv')\n",
    "pet_age['BPAD'] = pet_age['Prediction'] - pet_age['Age']\n",
    "mri_age['BPAD'] = mri_age['Prediction'] - mri_age['Age']\n",
    "cm_main = pickle.load(open(\"../config/plotting_config_main.p\", \"rb\"))\n",
    "y_db_cat = [0 if not \"OAS\" in x else 1 for x in pet_age['PTID']]\n",
    "fig, ax = plt.subplots(2,3, figsize=(30, 20))\n",
    "ax[0,0].scatter(pet_age['Age'], pet_age['Prediction'], c=cm_main[y_db_cat], alpha=0.8)\n",
    "ax[0,0].set_xlabel('Age', fontsize=15)\n",
    "ax[0,0].set_ylabel('FDG-PET-predicted Age', fontsize=15)\n",
    "ax[0,0].set_xticklabels(pet_age['Age'], fontsize=15)\n",
    "ax[0,0].set_yticklabels(np.round(pet_age['Prediction'], 0), fontsize=15)\n",
    "ax[0,1].scatter(mri_age['Age'], mri_age['Prediction'], c=cm_main[y_db_cat], alpha=0.8)\n",
    "ax[0,1].set_xlabel('Age', fontsize=15)\n",
    "ax[0,1].set_ylabel('MRI-predicted Age', fontsize=15)\n",
    "ax[0,1].set_xticklabels(pet_age['Age'], fontsize=15)\n",
    "ax[0,1].set_yticklabels(np.round(mri_age['Prediction'], 0), fontsize=15)\n",
    "ax[0,2].scatter(pet_age['Prediction'], mri_age['Prediction'], c=cm_main[y_db_cat], alpha=0.8)\n",
    "ax[0,2].set_xlabel('FDG-PET-predicted Age', fontsize=15)\n",
    "ax[0,2].set_ylabel('MRI-predicted Age', fontsize=15)\n",
    "ax[0,2].set_xticklabels(np.round(pet_age['Prediction'], 0), fontsize=15)\n",
    "ax[0,2].set_yticklabels(np.round(mri_age['Prediction'], 0), fontsize=15)\n",
    "ax[1,0].scatter(pet_age['BPAD'], mri_age['BPAD'], c=cm_main[y_db_cat], alpha=0.8)\n",
    "ax[1,0].set_xlabel('FDG-PET-predicted Age', fontsize=15)\n",
    "ax[1,0].set_ylabel('MRI-predicted Age', fontsize=15)\n",
    "ax[1,0].set_xlim(-8, 8)\n",
    "ax[1,0].set_ylim(-8, 8)\n",
    "#ax[1,0].set_xticklabels(np.round(pet_age['BPAD'], 0), fontsize=15)\n",
    "#ax[1,0].set_yticklabels(np.round(mri_age['BPAD'], 0), fontsize=15)\n",
    "plt.show()"
   ]
  },
  {
   "cell_type": "markdown",
   "metadata": {},
   "source": [
    "## Validation of brain age prediction in CN"
   ]
  },
  {
   "cell_type": "code",
   "execution_count": null,
   "metadata": {},
   "outputs": [],
   "source": [
    "main(2.1, modality)"
   ]
  },
  {
   "cell_type": "markdown",
   "metadata": {},
   "source": [
    "## Brain age prediction in MCI"
   ]
  },
  {
   "cell_type": "code",
   "execution_count": null,
   "metadata": {},
   "outputs": [],
   "source": [
    "main(3, modality)"
   ]
  },
  {
   "cell_type": "markdown",
   "metadata": {},
   "source": [
    "## Association with cognitive performance/neuropathology in CN"
   ]
  },
  {
   "cell_type": "code",
   "execution_count": null,
   "metadata": {},
   "outputs": [],
   "source": [
    "main(4.1, modality)"
   ]
  },
  {
   "cell_type": "markdown",
   "metadata": {},
   "source": [
    "## Association with cognitive performance/neuropathology in MCI"
   ]
  },
  {
   "cell_type": "code",
   "execution_count": null,
   "metadata": {},
   "outputs": [],
   "source": [
    "main(4.2, modality)"
   ]
  },
  {
   "cell_type": "code",
   "execution_count": null,
   "metadata": {},
   "outputs": [],
   "source": []
  }
 ],
 "metadata": {
  "kernelspec": {
   "display_name": "Python 3",
   "language": "python",
   "name": "python3"
  },
  "language_info": {
   "codemirror_mode": {
    "name": "ipython",
    "version": 3
   },
   "file_extension": ".py",
   "mimetype": "text/x-python",
   "name": "python",
   "nbconvert_exporter": "python",
   "pygments_lexer": "ipython3",
   "version": "3.8.5"
  }
 },
 "nbformat": 4,
 "nbformat_minor": 4
}
