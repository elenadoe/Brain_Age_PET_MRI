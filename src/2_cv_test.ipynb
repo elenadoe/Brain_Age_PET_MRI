{
 "cells": [
  {
   "cell_type": "code",
   "execution_count": 162,
   "metadata": {},
   "outputs": [
    {
     "name": "stdout",
     "output_type": "stream",
     "text": [
      "Median:  67.0\n",
      "[32 36]\n"
     ]
    },
    {
     "name": "stderr",
     "output_type": "stream",
     "text": [
      "c:\\python\\lib\\site-packages\\ipykernel_launcher.py:30: SettingWithCopyWarning: \n",
      "A value is trying to be set on a copy of a slice from a DataFrame.\n",
      "Try using .loc[row_indexer,col_indexer] = value instead\n",
      "\n",
      "See the caveats in the documentation: https://pandas.pydata.org/pandas-docs/stable/user_guide/indexing.html#returning-a-view-versus-a-copy\n",
      "c:\\python\\lib\\site-packages\\ipykernel_launcher.py:33: SettingWithCopyWarning: \n",
      "A value is trying to be set on a copy of a slice from a DataFrame.\n",
      "Try using .loc[row_indexer,col_indexer] = value instead\n",
      "\n",
      "See the caveats in the documentation: https://pandas.pydata.org/pandas-docs/stable/user_guide/indexing.html#returning-a-view-versus-a-copy\n"
     ]
    },
    {
     "data": {
      "text/plain": [
       "'pca = PCA()\\npes = pca.fit_transform(df_train[col])\\n\\ndf_pes = pd.DataFrame(pes)\\ndf_pes.columns = [\"PC_\"+str(i) for i in range(len(pes))]\\ndf_pes[\\'Subject\\'], df_pes[\\'Age\\'], df_pes[\\'Age_bins\\'] = df_train[\\'Subject\\'], df_train[\\'Age\\'], df_train[\\'Age_bins\\']\\ncol1 = [x for x in df_pes.columns if \\'PC_\\' in x]\\ncol2 = []\\n# [3] considers those principal components that are significantly correlated with age\\nfor i in col1:\\n    check = scipy.stats.pearsonr(df_pes[i], df_pes[\\'Age\\'])[1]\\n    if check < 0.1:\\n        col2.append(i)\\ndf_train = df_pes\\nc = col2\\n'"
      ]
     },
     "execution_count": 162,
     "metadata": {},
     "output_type": "execute_result"
    },
    {
     "data": {
      "image/png": "[encoded data removed]",
      "text/plain": [
       "<Figure size 432x288 with 1 Axes>"
      ]
     },
     "metadata": {
      "needs_background": "light"
     },
     "output_type": "display_data"
    }
   ],
   "source": [
    "import pandas as pd\n",
    "import numpy as np\n",
    "import matplotlib.pyplot as plt\n",
    "import sys\n",
    "import seaborn as sns\n",
    "import scipy.stats\n",
    "# pip install https://github.com/JamesRitchie/scikit-rvm/archive/master.zip\n",
    "from skrvm import RVC\n",
    "from sklearn.svm import SVC\n",
    "from sklearn.ensemble import RandomForestClassifier\n",
    "from sklearn.gaussian_process import GaussianProcessClassifier\n",
    "\n",
    "from julearn import run_cross_validation\n",
    "from julearn.utils import configure_logging\n",
    "from nilearn.datasets import fetch_atlas_schaefer_2018, fetch_atlas_aal\n",
    "from nilearn import plotting\n",
    "from nilearn import image\n",
    "from sklearn.feature_selection import mutual_info_classif, SelectPercentile\n",
    "from sklearn.model_selection import train_test_split, StratifiedKFold\n",
    "from sklearn.decomposition import PCA\n",
    "from sklearn.inspection import permutation_importance\n",
    "from sklearn.metrics import mean_absolute_error, confusion_matrix, balanced_accuracy_score\n",
    "sys.path.append(\"../lib\")\n",
    "from create_splits import stratified_splits\n",
    "\n",
    "df = pd.read_csv('../data/test_train_MRI.csv', index_col=0)\n",
    "\n",
    "df_train = df[df['train'] == \"T\"]\n",
    "# round to no decimal place\n",
    "df_train['Age'] = np.around(df_train['Age'].astype(int))\n",
    "med = np.median(df_train['Age'])\n",
    "print(\"Median: \", med)\n",
    "df_train['Age_bin'] = [0 if x< med else 1 for x in df_train['Age']]\n",
    "print(np.bincount(df_train['Age_bin']))\n",
    "df_train = df_train.reset_index(drop=True)\n",
    "col = [x for x in df_train.columns if ('_L' in x) or ('_R' in x) or ('Vermis' in x)]\n",
    "plt.hist(df_train['Age'], bins=5)\n",
    "c = col\n",
    "# uncomment for PCA\n",
    "# [1] creates principal components, \n",
    "# [2] calculates cross products of brain scan and principal components,\n",
    "\"\"\"pca = PCA()\n",
    "pes = pca.fit_transform(df_train[col])\n",
    "\n",
    "df_pes = pd.DataFrame(pes)\n",
    "df_pes.columns = [\"PC_\"+str(i) for i in range(len(pes))]\n",
    "df_pes['Subject'], df_pes['Age'], df_pes['Age_bins'] = df_train['Subject'], df_train['Age'], df_train['Age_bins']\n",
    "col1 = [x for x in df_pes.columns if 'PC_' in x]\n",
    "col2 = []\n",
    "# [3] considers those principal components that are significantly correlated with age\n",
    "for i in col1:\n",
    "    check = scipy.stats.pearsonr(df_pes[i], df_pes['Age'])[1]\n",
    "    if check < 0.1:\n",
    "        col2.append(i)\n",
    "df_train = df_pes\n",
    "c = col2\n",
    "\"\"\"\n"
   ]
  },
  {
   "cell_type": "code",
   "execution_count": 163,
   "metadata": {},
   "outputs": [
    {
     "name": "stderr",
     "output_type": "stream",
     "text": [
      "c:\\python\\lib\\site-packages\\sklearn\\model_selection\\_split.py:672: UserWarning: The least populated class in y has only 3 members, which is less than n_splits=5.\n",
      "  % (min_groups, self.n_splits)), UserWarning)\n",
      "c:\\python\\lib\\site-packages\\sklearn\\model_selection\\_split.py:672: UserWarning: The least populated class in y has only 3 members, which is less than n_splits=5.\n",
      "  % (min_groups, self.n_splits)), UserWarning)\n",
      "c:\\python\\lib\\site-packages\\sklearn\\model_selection\\_split.py:672: UserWarning: The least populated class in y has only 3 members, which is less than n_splits=5.\n",
      "  % (min_groups, self.n_splits)), UserWarning)\n",
      "c:\\python\\lib\\site-packages\\sklearn\\model_selection\\_split.py:672: UserWarning: The least populated class in y has only 3 members, which is less than n_splits=5.\n",
      "  % (min_groups, self.n_splits)), UserWarning)\n"
     ]
    },
    {
     "name": "stdout",
     "output_type": "stream",
     "text": [
      "Balanced accuracy rvm fold 0: 0.47\n",
      "Balanced accuracy rvm fold 1: 0.75\n",
      "Balanced accuracy rvm fold 2: 0.42\n",
      "Balanced accuracy rvm fold 3: 0.69\n",
      "Balanced accuracy rvm fold 4: 0.46\n",
      "AVERAGE Balanced accuracy rvm: 0.56\n",
      "Balanced accuracy svm fold 0: 0.56\n",
      "Balanced accuracy svm fold 1: 0.5\n",
      "Balanced accuracy svm fold 2: 0.59\n",
      "Balanced accuracy svm fold 3: 0.52\n",
      "Balanced accuracy svm fold 4: 0.39\n",
      "AVERAGE Balanced accuracy svm: 0.51\n",
      "Balanced accuracy rfc fold 0: 0.47\n",
      "Balanced accuracy rfc fold 1: 0.42\n",
      "Balanced accuracy rfc fold 2: 0.42\n",
      "Balanced accuracy rfc fold 3: 0.46\n",
      "Balanced accuracy rfc fold 4: 0.6\n",
      "AVERAGE Balanced accuracy rfc: 0.47\n",
      "Balanced accuracy gpc fold 0: 0.56\n",
      "Balanced accuracy gpc fold 1: 0.5\n",
      "Balanced accuracy gpc fold 2: 0.43\n",
      "Balanced accuracy gpc fold 3: 0.52\n",
      "Balanced accuracy gpc fold 4: 0.51\n",
      "AVERAGE Balanced accuracy gpc: 0.5\n"
     ]
    }
   ],
   "source": [
    "rand_seed = 42\n",
    "num_bins = 5\n",
    "rvm = RVC()\n",
    "svm = SVC()\n",
    "rfc = RandomForestClassifier()\n",
    "gpc = GaussianProcessClassifier()\n",
    "models = [rvm, svm, rfc, gpc]\n",
    "model_names = ['rvm', 'svm', 'rfc', 'gpc']\n",
    "splits = 5\n",
    "\n",
    "model_results = []\n",
    "scores_results = []\n",
    "res = {}\n",
    "age_pred = {}\n",
    "\n",
    "res['model'] = []\n",
    "res['iter'] = []\n",
    "res['pred'] = []\n",
    "res['real'] = []\n",
    "res['ind'] = []\n",
    "# res = pd.Series(index=df_train.index)\n",
    "for i, model in enumerate(models):\n",
    "    cv = StratifiedKFold(n_splits=splits).split(df_train[c],\n",
    "                                                df_train['Age_bins'])\n",
    "    cv = list(cv)\n",
    "    scores, final_model = run_cross_validation(X=c, y='Age_bin',\n",
    "                                         # preprocess_X='scaler_robust',\n",
    "                                         # problem_type='classification',\n",
    "                                         data=df_train,\n",
    "                                         model=model, cv=cv,\n",
    "                                         return_estimator='all',\n",
    "                                         seed=rand_seed,\n",
    "                                         scoring=['balanced_accuracy'])\n",
    "    model_results.append(final_model)\n",
    "    scores_results.append(scores)\n",
    "    for iter in range(splits):\n",
    "        pred = scores.estimator[iter].predict(df_train.iloc[cv[iter][1]][c])\n",
    "        real = df_train.iloc[cv[iter][1]]['Age_bin'].tolist()\n",
    "        res['pred'].append(pred)\n",
    "        res['real'].append(real)\n",
    "        res['iter'].append(iter)\n",
    "        res['model'].append(str(model))\n",
    "        res['ind'].append(cv[iter][1])\n",
    "\n",
    "    df_res = pd.DataFrame(res)\n",
    "\n",
    "for m in models:\n",
    "    ba = []\n",
    "    y_true = df_res['real'][df_res['model'] == str(m)].tolist()\n",
    "    y_pred = df_res['pred'][df_res['model'] == str(m)].tolist()\n",
    "    for s in range(splits):\n",
    "        ba.append(np.round(balanced_accuracy_score(y_true[s], y_pred[s]),2))\n",
    "        print(\"Balanced accuracy {} fold {}: {}\".format(model_names[models.index(m)], s, ba[s]))\n",
    "    print(\"AVERAGE Balanced accuracy {}: {}\".format(model_names[models.index(m)], np.round(np.mean(ba),2)))"
   ]
  },
  {
   "cell_type": "markdown",
   "metadata": {},
   "source": [
    "### Plot Relevant Regions"
   ]
  },
  {
   "cell_type": "code",
   "execution_count": 126,
   "metadata": {},
   "outputs": [
    {
     "data": {
      "image/png": "[encoded data removed]",
      "text/plain": [
       "<Figure size 1440x360 with 3 Axes>"
      ]
     },
     "metadata": {
      "needs_background": "light"
     },
     "output_type": "display_data"
    }
   ],
   "source": [
    "# permutation importance\n",
    "rvm.fit(df_train[c], df_train['Age_bin'])\n",
    "rvm_feature_importance = permutation_importance(model_results[0]['rvc'],df_train[c],\n",
    "                                                df_train['Age_bin'], scoring=\"balanced_accuracy\")\n",
    "svm.fit(df_train[c], df_train['Age_bin'])\n",
    "svm_feature_importance = permutation_importance(model_results[1]['svc'],df_train[c],\n",
    "                                                df_train['Age_bin'], scoring=\"balanced_accuracy\")\n",
    "rfc.fit(df_train[c], df_train['Age_bin'])\n",
    "rfc_feature_importance = permutation_importance(model_results[2]['randomforestclassifier'],df_train[c],\n",
    "                                                df_train['Age_bin'], scoring=\"balanced_accuracy\")\n",
    "fig,ax = plt.subplots(1,3, figsize = (20,5))\n",
    "ax[0].bar(range(df_train[c].shape[1]),rvm_feature_importance.importances_mean)\n",
    "ax[1].bar(range(df_train[c].shape[1]),svm_feature_importance.importances_mean)\n",
    "ax[2].bar(range(df_train[c].shape[1]),rfc_feature_importance.importances_mean)\n",
    "plt.show()"
   ]
  },
  {
   "cell_type": "markdown",
   "metadata": {},
   "source": [
    "### Plot Relevant Regions in Glass Brain"
   ]
  },
  {
   "cell_type": "code",
   "execution_count": 129,
   "metadata": {},
   "outputs": [
    {
     "name": "stdout",
     "output_type": "stream",
     "text": [
      "\n",
      "Dataset created in C:\\Users\\doeringe/nilearn_data\\aal_SPM12\n",
      "\n",
      "Downloading data from http://www.gin.cnrs.fr/AAL_files/aal_for_SPM12.tar.gz ...\n"
     ]
    },
    {
     "name": "stderr",
     "output_type": "stream",
     "text": [
      " ...done. (1 seconds, 0 min)\n",
      "Extracting data from C:\\Users\\doeringe/nilearn_data\\aal_SPM12\\3d9806fc1addf495fd688a71eed4b1b7\\aal_for_SPM12.tar.gz..... done.\n"
     ]
    }
   ],
   "source": [
    "atlas_file = fetch_atlas_aal()\n",
    "atlas = image.load_img(atlas_file.maps)\n",
    "atlas_matrix = image.get_data(atlas)"
   ]
  },
  {
   "cell_type": "code",
   "execution_count": 132,
   "metadata": {},
   "outputs": [],
   "source": [
    "# create statistical map where each voxel value coresponds to permutation importance\n",
    "rvm_imp = rvm_feature_importance.importances_mean\n",
    "atlas_matrix_stat = atlas_matrix.copy()\n",
    "\n",
    "for x in range(117):\n",
    "    if x == 0: \n",
    "        pass\n",
    "    else:\n",
    "        atlas_matrix_stat[atlas_matrix_stat==x] = rvm_imp[x-1]\n",
    "atlas_rvm = image.new_img_like(atlas, atlas_matrix_stat)\n"
   ]
  },
  {
   "cell_type": "code",
   "execution_count": 133,
   "metadata": {},
   "outputs": [],
   "source": [
    "svm_imp = svm_feature_importance.importances_mean\n",
    "atlas_matrix_stat_svm = atlas_matrix.copy()\n",
    "\n",
    "for x in range(117):\n",
    "    if x == 0: \n",
    "        pass\n",
    "    else:\n",
    "        atlas_matrix_stat_svm[atlas_matrix_stat_svm==x] = svm_imp[x-1]\n",
    "atlas_svm = image.new_img_like(atlas, atlas_matrix_stat_svm)"
   ]
  },
  {
   "cell_type": "code",
   "execution_count": 134,
   "metadata": {},
   "outputs": [],
   "source": [
    "rfc_imp = rfc_feature_importance.importances_mean\n",
    "atlas_matrix_stat_rfc = atlas_matrix.copy()\n",
    "\n",
    "for x in range(117):\n",
    "    if x == 0: \n",
    "        pass\n",
    "    else:\n",
    "        atlas_matrix_stat_rfc[atlas_matrix_stat_rfc==x] = rfc_imp[x-1]\n",
    "atlas_rfc = image.new_img_like(atlas, atlas_matrix_stat_rfc)"
   ]
  },
  {
   "cell_type": "code",
   "execution_count": 137,
   "metadata": {},
   "outputs": [
    {
     "data": {
      "image/png": "[encoded data removed]",
      "text/plain": [
       "<Figure size 1440x360 with 15 Axes>"
      ]
     },
     "metadata": {
      "needs_background": "light"
     },
     "output_type": "display_data"
    }
   ],
   "source": [
    "fix, ax = plt.subplots(1,3, figsize=(20,5))\n",
    "plotting.plot_stat_map(atlas_rvm, axes = ax[0])\n",
    "ax[0].set_title(\"RVM-relevant regions for aging\")\n",
    "plotting.plot_stat_map(atlas_svm, axes = ax[1])\n",
    "ax[1].set_title(\"SVM-relevant regions for aging\")\n",
    "plotting.plot_stat_map(atlas_rfc, axes = ax[2])\n",
    "ax[2].set_title(\"RFC-relevant regions for aging\")\n",
    "plt.show()"
   ]
  },
  {
   "cell_type": "code",
   "execution_count": null,
   "metadata": {},
   "outputs": [],
   "source": []
  }
 ],
 "metadata": {
  "kernelspec": {
   "display_name": "Python 3",
   "language": "python",
   "name": "python3"
  },
  "language_info": {
   "codemirror_mode": {
    "name": "ipython",
    "version": 3
   },
   "file_extension": ".py",
   "mimetype": "text/x-python",
   "name": "python",
   "nbconvert_exporter": "python",
   "pygments_lexer": "ipython3",
   "version": "3.7.9"
  }
 },
 "nbformat": 4,
 "nbformat_minor": 4
}
