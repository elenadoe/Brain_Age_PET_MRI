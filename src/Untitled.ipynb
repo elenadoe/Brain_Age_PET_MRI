{
 "cells": [
  {
   "cell_type": "code",
   "execution_count": 20,
   "metadata": {},
   "outputs": [],
   "source": [
    "from nilearn._utils import check_niimg\n",
    "from nilearn.input_data import NiftiLabelsMasker\n",
    "import nibabel as nib\n",
    "import numpy as np\n",
    "import pandas as pd\n",
    "from glob import glob\n",
    "from nilearn.datasets import fetch_atlas_schaefer_2018\n",
    "\n",
    "subjects = pd.read_csv('../FDG_BASELINE_HEALTHY_4_15_2021.csv')\n",
    "subject_list = subjects['Subject'].tolist()\n",
    "data_path = '/home/doeringe/Dokumente/brain age/4_SUVR/'\n",
    "output_csv = '../data/parcels_FDG_tpm_ADNI.csv'\n",
    "atlas = fetch_atlas_schaefer_2018(n_rois=200, yeo_networks = 17)\n",
    "\n",
    "image_list = []\n",
    "subj_succ = []\n",
    "subj_miss = []\n",
    "subj_year = []\n",
    "subj_month = []\n",
    "age = []\n",
    "\n",
    "# create list of regional data and subject IDs\n",
    "for sub in subject_list:\n",
    "    \n",
    "    foi = glob(data_path + \"SUV*\" + sub + \"*.nii\")\n",
    "    y = []\n",
    "    for n in range(len(foi)):\n",
    "        y.append(int(foi[n][95:99]))\n",
    "    base_ind_ = y.index(np.min(y))\n",
    "    if foi and (sub not in subj_succ):\n",
    "        this_image = nib.load(foi[base_ind_])\n",
    "        #print(this_image)\n",
    "        niimg = check_niimg(this_image, atleast_4d=True)\n",
    "        masker = NiftiLabelsMasker(labels_img=atlas.maps,\n",
    "                                   standardize=False,\n",
    "                                   memory='nilearn_cache',\n",
    "                                   resampling_target='data')\n",
    "        parcelled = masker.fit_transform(niimg)\n",
    "        image_list.append(parcelled)\n",
    "        subj_succ.append(sub)\n",
    "        subj_year.append(foi[base_ind_][95:99])\n",
    "        subj_month.append(foi[base_ind_][99:101])\n",
    "        age.append(np.min(subjects['Age'][subjects['Subject']==sub]))\n",
    "        \n",
    "    \n",
    "features = np.array(image_list)\n",
    "x, y, z = features.shape\n",
    "features = features.reshape(x, z)\n",
    "df = pd.DataFrame(features, columns=atlas.labels)\n",
    "\n",
    "# combine information on subjects, age and regional data\n",
    "subs = {'Subject' : subj_succ,\n",
    "       'Age' : age,\n",
    "       'Year' : subj_year,\n",
    "       'Month' : subj_month}\n",
    "subs_pd = pd.DataFrame(subs)\n",
    "df_new = pd.concat([subs_pd, df], axis=1)\n",
    "df_new.to_csv(output_csv, index=False)\n"
   ]
  },
  {
   "cell_type": "code",
   "execution_count": 18,
   "metadata": {},
   "outputs": [
    {
     "data": {
      "text/plain": [
       "68"
      ]
     },
     "execution_count": 18,
     "metadata": {},
     "output_type": "execute_result"
    }
   ],
   "source": [
    "sub = \"137_S_4520\"\n",
    "np.min(subjects['Age'][subjects['Subject']==sub].tolist())"
   ]
  },
  {
   "cell_type": "code",
   "execution_count": null,
   "metadata": {},
   "outputs": [],
   "source": [
    "from sklearn.model_selection import train_test_split\n",
    "\n",
    "df = df_new\n",
    "df['Agebins'] = df['Age'].values // 7\n",
    "df['Agebins'] = df['Agebins'].astype(int)\n",
    "\n",
    "col = [x for x in df.columns if '_' in str(x)]\n",
    "\n",
    "X = df[col].values\n",
    "\n",
    "y_pseudo = df['Agebins']\n",
    "y = df['Age']\n",
    "\n",
    "x_train, x_test,  y_train, y_test, id_train, id_test = train_test_split(\n",
    "    X, y, df['Subject'], test_size=.2, random_state=42,\n",
    "    stratify=y_pseudo)\n",
    "\n",
    "df['train'] = [\"T\" if x in id_train.values else \"F\" for x in df[\n",
    "               'Subject']]\n",
    "\n",
    "df.to_csv('../data/test_train_FDG_tpm_ADNI.csv')"
   ]
  },
  {
   "cell_type": "code",
   "execution_count": null,
   "metadata": {},
   "outputs": [],
   "source": []
  }
 ],
 "metadata": {
  "kernelspec": {
   "display_name": "Python 3",
   "language": "python",
   "name": "python3"
  },
  "language_info": {
   "codemirror_mode": {
    "name": "ipython",
    "version": 3
   },
   "file_extension": ".py",
   "mimetype": "text/x-python",
   "name": "python",
   "nbconvert_exporter": "python",
   "pygments_lexer": "ipython3",
   "version": "3.8.5"
  }
 },
 "nbformat": 4,
 "nbformat_minor": 4
}
