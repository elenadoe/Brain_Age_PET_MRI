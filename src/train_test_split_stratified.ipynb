{
 "cells": [
  {
   "cell_type": "code",
   "execution_count": 1,
   "metadata": {},
   "outputs": [
    {
     "name": "stderr",
     "output_type": "stream",
     "text": [
      "c:\\python\\lib\\site-packages\\ipykernel_launcher.py:14: SettingWithCopyWarning: \n",
      "A value is trying to be set on a copy of a slice from a DataFrame\n",
      "\n",
      "See the caveats in the documentation: https://pandas.pydata.org/pandas-docs/stable/user_guide/indexing.html#returning-a-view-versus-a-copy\n",
      "  \n"
     ]
    }
   ],
   "source": [
    "import numpy as np\n",
    "import pandas as pd\n",
    "import os\n",
    "import os.path as op\n",
    "import matplotlib.pyplot as plt\n",
    "from sklearn.model_selection import train_test_split\n",
    "\n",
    "df = pd.read_csv('C:/Users/doeringe/Documents/BrainAge/TestData/MCI_baseline_2.csv')\n",
    "labels = pd.read_csv('C:/Users/doeringe/Documents/BrainAge/TestData/ADNI_MCI.csv',sep=\";\")\n",
    "df['AGE'] = np.nan\n",
    "for index,row in df.iterrows():\n",
    "    pat = df['Subject'][index]\n",
    "    if pat in labels['PTID'].tolist():\n",
    "        df['AGE'][index] = labels['AGE'][labels['PTID']==pat].values[0]\n"
   ]
  },
  {
   "cell_type": "code",
   "execution_count": 2,
   "metadata": {},
   "outputs": [
    {
     "name": "stdout",
     "output_type": "stream",
     "text": [
      "SUMMARY:\n",
      "\n",
      "72 individuals in category 0 (age-range: 55.0-61.9 years)\n",
      "67 individuals in category 1 (age-range: 61.9-64.8 years)\n",
      "70 individuals in category 2 (age-range: 64.8-68.2 years)\n",
      "73 individuals in category 3 (age-range: 68.2-70.6 years)\n",
      "66 individuals in category 4 (age-range: 70.6-72.2 years)\n",
      "67 individuals in category 5 (age-range: 72.2-74.2 years)\n",
      "76 individuals in category 6 (age-range: 74.2-76.4 years)\n",
      "64 individuals in category 7 (age-range: 76.4-78.5 years)\n",
      "67 individuals in category 8 (age-range: 78.5-82.3 years)\n",
      "69 individuals in category 9 (age-range: 82.3-91.4 years)\n"
     ]
    },
    {
     "name": "stderr",
     "output_type": "stream",
     "text": [
      "c:\\python\\lib\\site-packages\\ipykernel_launcher.py:8: SettingWithCopyWarning: \n",
      "A value is trying to be set on a copy of a slice from a DataFrame.\n",
      "Try using .loc[row_indexer,col_indexer] = value instead\n",
      "\n",
      "See the caveats in the documentation: https://pandas.pydata.org/pandas-docs/stable/user_guide/indexing.html#returning-a-view-versus-a-copy\n",
      "  \n"
     ]
    }
   ],
   "source": [
    "df_new = df.dropna(subset=['AGE'])\n",
    "X = df_new.values\n",
    "X = X[:,1:-1]\n",
    "y = df_new['AGE'].values\n",
    "y_pseudo,y_pseudo_edges = pd.qcut(y,q=10,labels=range(0,10),retbins=True)\n",
    "#print(y_pseudo.categories)\n",
    "#print(y_pseudo_edges)\n",
    "df_new['AGE_bins'] = y_pseudo\n",
    "value_counts = df_new['AGE_bins'].value_counts().sort_index()\n",
    "#print(value_counts)\n",
    "\n",
    "print('SUMMARY:\\n')\n",
    "for i in range(0,10):\n",
    "    print('{} individuals in category {} (age-range: {}-{} years)'.format(value_counts[i],\n",
    "                                                                          y_pseudo.categories[i],\n",
    "                                                                          y_pseudo_edges[i],\n",
    "                                                                          y_pseudo_edges[i+1]))"
   ]
  },
  {
   "cell_type": "code",
   "execution_count": 3,
   "metadata": {},
   "outputs": [
    {
     "name": "stdout",
     "output_type": "stream",
     "text": [
      "6    76\n",
      "3    73\n",
      "0    72\n",
      "2    70\n",
      "9    69\n",
      "8    67\n",
      "5    67\n",
      "1    67\n",
      "4    66\n",
      "7    64\n",
      "Name: AGE_category, dtype: int64\n"
     ]
    },
    {
     "name": "stderr",
     "output_type": "stream",
     "text": [
      "c:\\python\\lib\\site-packages\\ipykernel_launcher.py:1: SettingWithCopyWarning: \n",
      "A value is trying to be set on a copy of a slice from a DataFrame.\n",
      "Try using .loc[row_indexer,col_indexer] = value instead\n",
      "\n",
      "See the caveats in the documentation: https://pandas.pydata.org/pandas-docs/stable/user_guide/indexing.html#returning-a-view-versus-a-copy\n",
      "  \"\"\"Entry point for launching an IPython kernel.\n"
     ]
    }
   ],
   "source": [
    "df_new['AGE_category'] = y_pseudo.tolist()\n",
    "print(df_new['AGE_category'].value_counts())"
   ]
  },
  {
   "cell_type": "code",
   "execution_count": 4,
   "metadata": {},
   "outputs": [],
   "source": [
    "x_train, x_test,  y_train, y_test, id_train, id_test = train_test_split(\n",
    "    X, y, df_new['Subject'], test_size=.2, random_state=42,\n",
    "    stratify=y_pseudo)"
   ]
  },
  {
   "cell_type": "code",
   "execution_count": 5,
   "metadata": {},
   "outputs": [
    {
     "name": "stderr",
     "output_type": "stream",
     "text": [
      "c:\\python\\lib\\site-packages\\ipykernel_launcher.py:1: SettingWithCopyWarning: \n",
      "A value is trying to be set on a copy of a slice from a DataFrame.\n",
      "Try using .loc[row_indexer,col_indexer] = value instead\n",
      "\n",
      "See the caveats in the documentation: https://pandas.pydata.org/pandas-docs/stable/user_guide/indexing.html#returning-a-view-versus-a-copy\n",
      "  \"\"\"Entry point for launching an IPython kernel.\n"
     ]
    },
    {
     "data": {
      "image/png": "[encoded data removed]",
      "text/plain": [
       "<Figure size 432x288 with 1 Axes>"
      ]
     },
     "metadata": {
      "needs_background": "light"
     },
     "output_type": "display_data"
    }
   ],
   "source": [
    "df_new['train'] = [\"T\" if x in id_train.values else \"F\" for x in df_new['Subject']]\n",
    "\n",
    "plt.hist(df_new['AGE_category'])\n",
    "plt.hist(df_new['AGE_category'][df_new['train']=='T'])\n",
    "plt.hist(df_new['AGE_category'][df_new['train']=='F'])\n",
    "plt.show()\n",
    "\n",
    "df_new.to_csv('test_train_stratified.csv')"
   ]
  },
  {
   "cell_type": "code",
   "execution_count": null,
   "metadata": {},
   "outputs": [],
   "source": []
  }
 ],
 "metadata": {
  "kernelspec": {
   "display_name": "Python 3",
   "language": "python",
   "name": "python3"
  },
  "language_info": {
   "codemirror_mode": {
    "name": "ipython",
    "version": 3
   },
   "file_extension": ".py",
   "mimetype": "text/x-python",
   "name": "python",
   "nbconvert_exporter": "python",
   "pygments_lexer": "ipython3",
   "version": "3.7.9"
  }
 },
 "nbformat": 4,
 "nbformat_minor": 4
}
