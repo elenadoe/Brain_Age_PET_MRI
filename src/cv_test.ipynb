{
 "cells": [
  {
   "cell_type": "code",
   "execution_count": 45,
   "metadata": {},
   "outputs": [
    {
     "name": "stdout",
     "output_type": "stream",
     "text": [
      "[57 54 56 58 53 54 61 51 53 55]\n"
     ]
    }
   ],
   "source": [
    "import numpy as np\n",
    "import pandas as pd\n",
    "import os\n",
    "import os.path as op\n",
    "import matplotlib.pyplot as plt\n",
    "from sklearn.metrics import mean_absolute_error\n",
    "from julearn import run_cross_validation\n",
    "from julearn.utils import configure_logging\n",
    "from sklearn.model_selection import train_test_split, StratifiedKFold\n",
    "import sys\n",
    "sys.path.append(\"C:/Users/doeringe/Documents/BrainAge/PET_MRI_age/lib\")\n",
    "from create_splits import stratified_splits\n",
    "\n",
    "df = pd.read_csv('test_train.csv',index_col=0)\n",
    "\n",
    "df_train = df[df['train'] == \"T\"]\n",
    "\n",
    "X = df_train.values[:,1:-3]\n",
    "y_pseudo = df_train['AGE_bins']\n",
    "y = df_train['AGE'].values\n",
    "\n",
    "print(np.bincount(y_pseudo))\n",
    "\n",
    "rand_seed = 42\n",
    "num_bins = 5\n",
    "# creates dictionary of test indices for different repeats\n",
    "cv_folds = stratified_splits(bins_on=y_pseudo, num_bins=num_bins,\n",
    "                             data=df_train, num_splits=5,\n",
    "                             shuffle=True, random_state=42)\n",
    "cv = StratifiedKFold(n_splits=5).split(X, y_pseudo)\n",
    "\n",
    "scores,model = run_cross_validation(X=X, y=y,\n",
    "                              preprocess_X='scaler_robust',\n",
    "                              problem_type='regression',\n",
    "                              model='gradientboost', cv=cv,\n",
    "                              return_estimator='final',\n",
    "                              seed=rand_seed)\n"
   ]
  },
  {
   "cell_type": "code",
   "execution_count": 46,
   "metadata": {},
   "outputs": [
    {
     "name": "stdout",
     "output_type": "stream",
     "text": [
      "   fit_time  score_time  test_score  repeat  fold\n",
      "0  2.860007    0.031264    0.999835       0     0\n",
      "1  2.840779    0.037752    0.999670       0     1\n",
      "2  2.753733    0.053517    0.999831       0     2\n",
      "3  2.944075    0.031279    0.999744       0     3\n",
      "4  3.146703    0.031237    0.999786       0     4\n"
     ]
    }
   ],
   "source": [
    "print(scores)"
   ]
  },
  {
   "cell_type": "code",
   "execution_count": null,
   "metadata": {},
   "outputs": [],
   "source": []
  }
 ],
 "metadata": {
  "kernelspec": {
   "display_name": "Python 3",
   "language": "python",
   "name": "python3"
  },
  "language_info": {
   "codemirror_mode": {
    "name": "ipython",
    "version": 3
   },
   "file_extension": ".py",
   "mimetype": "text/x-python",
   "name": "python",
   "nbconvert_exporter": "python",
   "pygments_lexer": "ipython3",
   "version": "3.7.9"
  }
 },
 "nbformat": 4,
 "nbformat_minor": 4
}
