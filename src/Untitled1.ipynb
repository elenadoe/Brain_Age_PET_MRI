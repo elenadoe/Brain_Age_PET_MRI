{
 "cells": [
  {
   "cell_type": "code",
   "execution_count": 3,
   "metadata": {},
   "outputs": [
    {
     "data": {
      "image/png": "[encoded data removed]",
      "text/plain": [
       "<Figure size 432x288 with 1 Axes>"
      ]
     },
     "metadata": {
      "needs_background": "light"
     },
     "output_type": "display_data"
    }
   ],
   "source": [
    "import numpy as np\n",
    "import pandas as pd\n",
    "import os\n",
    "import os.path as op\n",
    "import matplotlib.pyplot as plt\n",
    "from sklearn.model_selection import train_test_split\n",
    "\n",
    "#%matplotlib\n",
    "#%config IPCompleter.use_jedi = False\n",
    "\n",
    "df = pd.read_csv('../data/parcels_FDG_tpm_ADNI.csv')\n",
    "\n",
    "# modulo 7 works for both MRI and PET, 5 throws an error for PET\n",
    "df['Age_bins'] = df['Age'].values // 5\n",
    "df['Age_bins'] = df['Age_bins'].astype(int)\n",
    "\n",
    "col = [x for x in df.columns if '_' in x]\n",
    "\n",
    "X = df[col].values\n",
    "\n",
    "y_pseudo = df['Age_bins']\n",
    "y = df['Age']\n",
    "\n",
    "x_train, x_test,  y_train, y_test, id_train, id_test = train_test_split(\n",
    "    X, y, df['Subject'], test_size=.2, random_state=42,\n",
    "    stratify=y_pseudo)\n",
    "\n",
    "df['train'] = [\"T\" if x in id_train.values else \"F\" for x in df[\n",
    "               'Subject']]\n",
    "\n",
    "\n",
    "plt.hist(y_pseudo.values)\n",
    "plt.hist(y_train // 5)\n",
    "plt.hist(y_test // 5)\n",
    "plt.show()\n",
    "\n",
    "df.to_csv('../data/test_train_FDG_ADNI.csv')"
   ]
  },
  {
   "cell_type": "code",
   "execution_count": 4,
   "metadata": {},
   "outputs": [
    {
     "name": "stdout",
     "output_type": "stream",
     "text": [
      "Median:  73.0\n",
      "[140 186]\n"
     ]
    },
    {
     "name": "stderr",
     "output_type": "stream",
     "text": [
      "c:\\python\\lib\\site-packages\\ipykernel_launcher.py:30: SettingWithCopyWarning: \n",
      "A value is trying to be set on a copy of a slice from a DataFrame.\n",
      "Try using .loc[row_indexer,col_indexer] = value instead\n",
      "\n",
      "See the caveats in the documentation: https://pandas.pydata.org/pandas-docs/stable/user_guide/indexing.html#returning-a-view-versus-a-copy\n",
      "c:\\python\\lib\\site-packages\\sklearn\\model_selection\\_split.py:672: UserWarning: The least populated class in y has only 2 members, which is less than n_splits=5.\n",
      "  % (min_groups, self.n_splits)), UserWarning)\n",
      "c:\\python\\lib\\site-packages\\sklearn\\model_selection\\_split.py:672: UserWarning: The least populated class in y has only 2 members, which is less than n_splits=5.\n",
      "  % (min_groups, self.n_splits)), UserWarning)\n",
      "c:\\python\\lib\\site-packages\\sklearn\\model_selection\\_split.py:672: UserWarning: The least populated class in y has only 2 members, which is less than n_splits=5.\n",
      "  % (min_groups, self.n_splits)), UserWarning)\n"
     ]
    },
    {
     "name": "stdout",
     "output_type": "stream",
     "text": [
      "Balanced accuracy rvr fold 0: 0.7\n",
      "Balanced accuracy rvr fold 1: 0.67\n",
      "Balanced accuracy rvr fold 2: 0.61\n",
      "Balanced accuracy rvr fold 3: 0.7\n",
      "Balanced accuracy rvr fold 4: 0.64\n",
      "AVERAGE Balanced accuracy rvr: 0.66\n",
      "Balanced accuracy svm fold 0: 0.5\n",
      "Balanced accuracy svm fold 1: 0.5\n",
      "Balanced accuracy svm fold 2: 0.5\n",
      "Balanced accuracy svm fold 3: 0.5\n",
      "Balanced accuracy svm fold 4: 0.5\n",
      "AVERAGE Balanced accuracy svm: 0.5\n",
      "Balanced accuracy rfc fold 0: 0.7\n",
      "Balanced accuracy rfc fold 1: 0.64\n",
      "Balanced accuracy rfc fold 2: 0.61\n",
      "Balanced accuracy rfc fold 3: 0.68\n",
      "Balanced accuracy rfc fold 4: 0.64\n",
      "AVERAGE Balanced accuracy rfc: 0.65\n"
     ]
    },
    {
     "data": {
      "image/png": "[encoded data removed]",
      "text/plain": [
       "<Figure size 432x288 with 1 Axes>"
      ]
     },
     "metadata": {
      "needs_background": "light"
     },
     "output_type": "display_data"
    }
   ],
   "source": [
    "import pandas as pd\n",
    "import numpy as np\n",
    "import matplotlib.pyplot as plt\n",
    "import sys\n",
    "import seaborn as sns\n",
    "import scipy.stats\n",
    "# pip install https://github.com/JamesRitchie/scikit-rvm/archive/master.zip\n",
    "from skrvm import RVC\n",
    "from sklearn.svm import SVC\n",
    "from sklearn.ensemble import RandomForestClassifier\n",
    "\n",
    "from julearn import run_cross_validation\n",
    "from julearn.utils import configure_logging\n",
    "from nilearn.datasets import fetch_atlas_schaefer_2018\n",
    "from nilearn import plotting\n",
    "from nilearn import image\n",
    "from sklearn.feature_selection import mutual_info_classif, SelectPercentile\n",
    "from sklearn.model_selection import train_test_split, StratifiedKFold\n",
    "from sklearn.decomposition import PCA\n",
    "from sklearn.inspection import permutation_importance\n",
    "from sklearn.metrics import mean_absolute_error, confusion_matrix, balanced_accuracy_score\n",
    "sys.path.append(\"../lib\")\n",
    "from create_splits import stratified_splits\n",
    "\n",
    "df_train = df[df['train'] == \"T\"]\n",
    "\n",
    "# Median split\n",
    "med = np.median(df_train['Age'])\n",
    "print(\"Median: \", med)\n",
    "df_train['Age_bin'] = [0 if x< med else 1 for x in df_train['Age']]\n",
    "print(np.bincount(df_train['Age_bin']))\n",
    "\n",
    "df_train = df_train.reset_index(drop=True)\n",
    "col = [x for x in df_train.columns if 'H_' in x]\n",
    "plt.hist(df_train['Age'], bins=5)\n",
    "c = col\n",
    "\n",
    "rand_seed = 42\n",
    "num_bins = 5\n",
    "rvm = RVC()\n",
    "svm = SVC()\n",
    "rfc = RandomForestClassifier()\n",
    "models = [rvm, svm, rfc]\n",
    "model_names = ['rvr', 'svm', 'rfc']\n",
    "splits = 5\n",
    "\n",
    "model_results = []\n",
    "scores_results = []\n",
    "res = {}\n",
    "\n",
    "res['model'] = []\n",
    "res['iter'] = []\n",
    "res['pred'] = []\n",
    "res['real'] = []\n",
    "res['ind'] = []\n",
    "\n",
    "for i, model in enumerate(models):\n",
    "    cv = StratifiedKFold(n_splits=splits).split(df_train[c],\n",
    "                                                df_train['Age_bins'])\n",
    "    cv = list(cv)\n",
    "    scores, final_model = run_cross_validation(X=c, y='Age_bin',\n",
    "                                         # preprocess_X='scaler_robust',\n",
    "                                         data=df_train,\n",
    "                                         model=model, cv=cv,\n",
    "                                         return_estimator='all',\n",
    "                                         seed=rand_seed,\n",
    "                                         scoring=['accuracy'])\n",
    "    model_results.append(final_model)\n",
    "    scores_results.append(scores)\n",
    "    for iter in range(splits):\n",
    "        pred = scores.estimator[iter].predict(df_train.iloc[cv[iter][1]][c])\n",
    "        real = df_train.iloc[cv[iter][1]]['Age_bin'].tolist()\n",
    "        res['pred'].append(pred)\n",
    "        res['real'].append(real)\n",
    "        res['iter'].append(iter)\n",
    "        res['model'].append(str(model))\n",
    "        res['ind'].append(cv[iter][1])\n",
    "\n",
    "    df_res = pd.DataFrame(res)\n",
    "\n",
    "for m in models:\n",
    "    ba = []\n",
    "    y_true = df_res['real'][df_res['model'] == str(m)].tolist()\n",
    "    y_pred = df_res['pred'][df_res['model'] == str(m)].tolist()\n",
    "    for s in range(splits):\n",
    "        ba.append(np.round(balanced_accuracy_score(y_true[s], y_pred[s]),2))\n",
    "        print(\"Balanced accuracy {} fold {}: {}\".format(model_names[models.index(m)], s, ba[s]))\n",
    "    print(\"AVERAGE Balanced accuracy {}: {}\".format(model_names[models.index(m)], np.round(np.mean(ba),2)))"
   ]
  },
  {
   "cell_type": "code",
   "execution_count": null,
   "metadata": {},
   "outputs": [],
   "source": []
  }
 ],
 "metadata": {
  "kernelspec": {
   "display_name": "Python 3",
   "language": "python",
   "name": "python3"
  },
  "language_info": {
   "codemirror_mode": {
    "name": "ipython",
    "version": 3
   },
   "file_extension": ".py",
   "mimetype": "text/x-python",
   "name": "python",
   "nbconvert_exporter": "python",
   "pygments_lexer": "ipython3",
   "version": "3.7.9"
  }
 },
 "nbformat": 4,
 "nbformat_minor": 4
}
