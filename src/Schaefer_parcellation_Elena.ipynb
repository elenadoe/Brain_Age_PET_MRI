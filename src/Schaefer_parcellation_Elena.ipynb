{
 "cells": [
  {
   "cell_type": "code",
   "execution_count": 1,
   "metadata": {},
   "outputs": [
    {
     "name": "stderr",
     "output_type": "stream",
     "text": [
      "/DATA/doeringe/.local/lib/python3.5/site-packages/nilearn/__init__.py:68: FutureWarning: Python 3.5 support is deprecated and will be removed in the 0.8.0 release. Consider switching to Python 3.6 or 3.7\n",
      "  _python_deprecation_warnings()\n",
      "/DATA/doeringe/.local/lib/python3.5/site-packages/nilearn/datasets/__init__.py:90: FutureWarning: Fetchers from the nilearn.datasets module will be updated in version 0.9 to return python strings instead of bytes and Pandas dataframes instead of Numpy arrays.\n",
      "  \"Numpy arrays.\", FutureWarning)\n"
     ]
    }
   ],
   "source": [
    "import os\n",
    "import logging\n",
    "import os.path as op\n",
    "import nibabel as nib\n",
    "import matplotlib.pyplot as plt\n",
    "import pandas as pd\n",
    "import numpy as np\n",
    "\n",
    "from nilearn.datasets import fetch_atlas_schaefer_2018\n",
    "from nilearn import plotting\n",
    "from nilearn._utils import check_niimg\n",
    "from nilearn.input_data import NiftiLabelsMasker"
   ]
  },
  {
   "cell_type": "code",
   "execution_count": 2,
   "metadata": {},
   "outputs": [
    {
     "name": "stdout",
     "output_type": "stream",
     "text": [
      "Downloading data from https://raw.githubusercontent.com/ThomasYeoLab/CBIG/v0.14.3-Update_Yeo2011_Schaefer2018_labelname/stable_projects/brain_parcellation/Schaefer2018_LocalGlobal/Parcellations/MNI/Schaefer2018_200Parcels_7Networks_order.txt ...\n"
     ]
    },
    {
     "name": "stderr",
     "output_type": "stream",
     "text": [
      " ...done. (0 seconds, 0 min)\n"
     ]
    },
    {
     "name": "stdout",
     "output_type": "stream",
     "text": [
      "Downloading data from https://raw.githubusercontent.com/ThomasYeoLab/CBIG/v0.14.3-Update_Yeo2011_Schaefer2018_labelname/stable_projects/brain_parcellation/Schaefer2018_LocalGlobal/Parcellations/MNI/Schaefer2018_200Parcels_7Networks_order_FSLMNI152_1mm.nii.gz ...\n"
     ]
    },
    {
     "name": "stderr",
     "output_type": "stream",
     "text": [
      " ...done. (0 seconds, 0 min)\n"
     ]
    }
   ],
   "source": [
    "schaefer = fetch_atlas_schaefer_2018(n_rois=200)"
   ]
  },
  {
   "cell_type": "code",
   "execution_count": 17,
   "metadata": {},
   "outputs": [
    {
     "data": {
      "image/png": "[encoded data removed]",
      "text/plain": [
       "<Figure size 475.2x187.2 with 4 Axes>"
      ]
     },
     "metadata": {},
     "output_type": "display_data"
    }
   ],
   "source": [
    "plotting.plot_anat(schaefer.maps, title = \"Schaefer 2018 Atlas with 200 parcellations\")\n",
    "plt.show()"
   ]
  },
  {
   "cell_type": "code",
   "execution_count": 16,
   "metadata": {},
   "outputs": [
    {
     "name": "stdout",
     "output_type": "stream",
     "text": [
      "   b'7Networks_LH_Vis_1'  b'7Networks_LH_Vis_2'  b'7Networks_LH_Vis_3'  \\\n",
      "0               1.433678               1.492364               1.299953   \n",
      "1               1.375708               1.307617               1.246074   \n",
      "2               1.152597               1.278895               1.230773   \n",
      "3               1.678847               1.696392               1.760881   \n",
      "4               1.506641               1.512846               1.499237   \n",
      "\n",
      "   b'7Networks_LH_Vis_4'  b'7Networks_LH_Vis_5'  b'7Networks_LH_Vis_6'  \\\n",
      "0               1.246982               1.015472               1.312704   \n",
      "1               1.203221               0.424426               1.323045   \n",
      "2               1.119145               0.816479               0.840217   \n",
      "3               1.601146               1.131249               1.520349   \n",
      "4               1.508172               0.908494               1.353894   \n",
      "\n",
      "   b'7Networks_LH_Vis_7'  b'7Networks_LH_Vis_8'  b'7Networks_LH_Vis_9'  \\\n",
      "0               1.502509               1.333189               1.270093   \n",
      "1               0.706190               1.366072               1.024720   \n",
      "2               1.137413               1.205583               1.051560   \n",
      "3               1.325046               1.706283               1.662237   \n",
      "4               1.181221               1.515805               1.360624   \n",
      "\n",
      "   b'7Networks_LH_Vis_10'  ...  b'7Networks_RH_Default_PFCdPFCm_2'  \\\n",
      "0                1.525416  ...                            1.352014   \n",
      "1                1.437979  ...                            1.275561   \n",
      "2                1.264726  ...                            1.121568   \n",
      "3                1.862579  ...                            1.743094   \n",
      "4                1.587686  ...                            1.431057   \n",
      "\n",
      "   b'7Networks_RH_Default_PFCdPFCm_3'  b'7Networks_RH_Default_PFCdPFCm_4'  \\\n",
      "0                            1.020573                            1.436127   \n",
      "1                            1.111797                            1.323478   \n",
      "2                            0.800557                            0.980198   \n",
      "3                            1.156532                            1.543538   \n",
      "4                            1.019151                            1.253473   \n",
      "\n",
      "   b'7Networks_RH_Default_PFCdPFCm_5'  b'7Networks_RH_Default_PFCdPFCm_6'  \\\n",
      "0                            1.294638                            1.689732   \n",
      "1                            1.220978                            1.503687   \n",
      "2                            0.950842                            1.253188   \n",
      "3                            1.605221                            2.009931   \n",
      "4                            1.268789                            1.650484   \n",
      "\n",
      "   b'7Networks_RH_Default_PFCdPFCm_7'  b'7Networks_RH_Default_pCunPCC_1'  \\\n",
      "0                            1.524937                           1.720101   \n",
      "1                            1.247813                           1.368605   \n",
      "2                            1.102135                           1.320030   \n",
      "3                            1.880027                           1.981619   \n",
      "4                            1.526918                           1.656164   \n",
      "\n",
      "   b'7Networks_RH_Default_pCunPCC_2'  b'7Networks_RH_Default_pCunPCC_3'  \\\n",
      "0                           1.714070                           1.790055   \n",
      "1                           1.495699                           1.557270   \n",
      "2                           1.461554                           1.245401   \n",
      "3                           1.986606                           2.006063   \n",
      "4                           1.639897                           1.528450   \n",
      "\n",
      "                   ID  \n",
      "0  OAS30001_ses-d2650  \n",
      "1  OAS30003_ses-d3320  \n",
      "2  OAS30007_ses-d1981  \n",
      "3  OAS30032_ses-d3511  \n",
      "4  OAS30032_ses-d4121  \n",
      "\n",
      "[5 rows x 201 columns]\n"
     ]
    }
   ],
   "source": [
    "subj_path = '/DATA/doeringe/Dokumente/BrainAge/3_SUVR_new/new/'\n",
    "\n",
    "# List all the subjects in subj_path\n",
    "subjects = os.listdir(subj_path)\n",
    "\n",
    "# Read the nifti/img file\n",
    "#images = []\n",
    "read_subjects = []\n",
    " \n",
    "for subject in subjects:\n",
    "    s_path = op.join(subj_path, subject)\n",
    "    read_subjects.append(s_path)\n",
    "    \n",
    "ids = [x[12:30] for x in subjects]\n",
    "\n",
    "image_list = []\n",
    "for subj in read_subjects:\n",
    "        this_image = nib.load(subj)\n",
    "        niimg = check_niimg(this_image, atleast_4d=True)\n",
    "        masker = NiftiLabelsMasker(labels_img=schaefer.maps,\n",
    "                                   standardize=False,\n",
    "                                   memory='nilearn_cache',\n",
    "                                   resampling_target='data')\n",
    "        parcelled = masker.fit_transform(niimg)\n",
    "        image_list.append(parcelled)\n",
    "\n",
    "# Get only the data for the subjects in the list\n",
    "\n",
    "df = pd.DataFrame(np.vstack(image_list), columns=schaefer.labels)\n",
    "df['ID'] = ids\n",
    "print(df.head(5))\n",
    "#t_df = df[df['participant_id'].isin(exist_subj)]\n",
    "df.to_csv(op.join(subj_path, \"OASIS_Schaefer_parcellation.csv\"))"
   ]
  },
  {
   "cell_type": "code",
   "execution_count": null,
   "metadata": {},
   "outputs": [],
   "source": []
  }
 ],
 "metadata": {
  "kernelspec": {
   "display_name": "Python 3",
   "language": "python",
   "name": "python3"
  },
  "language_info": {
   "codemirror_mode": {
    "name": "ipython",
    "version": 3
   },
   "file_extension": ".py",
   "mimetype": "text/x-python",
   "name": "python",
   "nbconvert_exporter": "python",
   "pygments_lexer": "ipython3",
   "version": "3.7.9"
  }
 },
 "nbformat": 4,
 "nbformat_minor": 2
}
