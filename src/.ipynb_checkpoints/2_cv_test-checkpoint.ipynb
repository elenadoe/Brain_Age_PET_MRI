{
 "cells": [
  {
   "cell_type": "code",
   "execution_count": 9,
   "metadata": {},
   "outputs": [
    {
     "name": "stdout",
     "output_type": "stream",
     "text": [
      "Median:  67.0\n",
      "[32 36]\n"
     ]
    },
    {
     "name": "stderr",
     "output_type": "stream",
     "text": [
      "c:\\python\\lib\\site-packages\\ipykernel_launcher.py:29: SettingWithCopyWarning: \n",
      "A value is trying to be set on a copy of a slice from a DataFrame.\n",
      "Try using .loc[row_indexer,col_indexer] = value instead\n",
      "\n",
      "See the caveats in the documentation: https://pandas.pydata.org/pandas-docs/stable/user_guide/indexing.html#returning-a-view-versus-a-copy\n",
      "c:\\python\\lib\\site-packages\\ipykernel_launcher.py:32: SettingWithCopyWarning: \n",
      "A value is trying to be set on a copy of a slice from a DataFrame.\n",
      "Try using .loc[row_indexer,col_indexer] = value instead\n",
      "\n",
      "See the caveats in the documentation: https://pandas.pydata.org/pandas-docs/stable/user_guide/indexing.html#returning-a-view-versus-a-copy\n"
     ]
    },
    {
     "data": {
      "text/plain": [
       "'pca = PCA()\\npes = pca.fit_transform(df_train[col])\\n\\ndf_pes = pd.DataFrame(pes)\\ndf_pes.columns = [\"PC_\"+str(i) for i in range(len(pes))]\\ndf_pes[\\'Subject\\'], df_pes[\\'Age\\'], df_pes[\\'Age_bins\\'] = df_train[\\'Subject\\'], df_train[\\'Age\\'], df_train[\\'Age_bins\\']\\ncol1 = [x for x in df_pes.columns if \\'PC_\\' in x]\\ncol2 = []\\n# [3] considers those principal components that are significantly correlated with age\\nfor i in col1:\\n    check = scipy.stats.pearsonr(df_pes[i], df_pes[\\'Age\\'])[1]\\n    if check < 0.1:\\n        col2.append(i)\\ndf_train = df_pes\\nc = col2\\n'"
      ]
     },
     "execution_count": 9,
     "metadata": {},
     "output_type": "execute_result"
    },
    {
     "data": {
      "image/png": "[encoded data removed]",
      "text/plain": [
       "<Figure size 432x288 with 1 Axes>"
      ]
     },
     "metadata": {
      "needs_background": "light"
     },
     "output_type": "display_data"
    }
   ],
   "source": [
    "import pandas as pd\n",
    "import numpy as np\n",
    "import matplotlib.pyplot as plt\n",
    "import sys\n",
    "import seaborn as sns\n",
    "import scipy.stats\n",
    "# pip install https://github.com/JamesRitchie/scikit-rvm/archive/master.zip\n",
    "from skrvm import RVC\n",
    "from sklearn.svm import SVC\n",
    "from sklearn.ensemble import RandomForestClassifier\n",
    "\n",
    "from julearn import run_cross_validation\n",
    "from julearn.utils import configure_logging\n",
    "from nilearn.datasets import fetch_atlas_schaefer_2018\n",
    "from nilearn import plotting\n",
    "from nilearn import image\n",
    "from sklearn.feature_selection import mutual_info_classif, SelectPercentile\n",
    "from sklearn.model_selection import train_test_split, StratifiedKFold\n",
    "from sklearn.decomposition import PCA\n",
    "from sklearn.inspection import permutation_importance\n",
    "from sklearn.metrics import mean_absolute_error, confusion_matrix, balanced_accuracy_score\n",
    "sys.path.append(\"../lib\")\n",
    "from create_splits import stratified_splits\n",
    "\n",
    "df = pd.read_csv('../data/test_train_MRI.csv', index_col=0)\n",
    "\n",
    "df_train = df[df['train'] == \"T\"]\n",
    "# round to no decimal place\n",
    "df_train['Age'] = np.around(df_train['Age'].astype(int))\n",
    "med = np.median(df_train['Age'])\n",
    "print(\"Median: \", med)\n",
    "df_train['Age_bin'] = [0 if x< med else 1 for x in df_train['Age']]\n",
    "print(np.bincount(df_train['Age_bin']))\n",
    "df_train = df_train.reset_index(drop=True)\n",
    "col = [x for x in df_train.columns if 'H_' in x]\n",
    "plt.hist(df_train['Age'], bins=5)\n",
    "c = col\n",
    "\n",
    "# uncomment for PCA\n",
    "# [1] creates principal components, \n",
    "# [2] calculates cross products of brain scan and principal components,\n",
    "\"\"\"pca = PCA()\n",
    "pes = pca.fit_transform(df_train[col])\n",
    "\n",
    "df_pes = pd.DataFrame(pes)\n",
    "df_pes.columns = [\"PC_\"+str(i) for i in range(len(pes))]\n",
    "df_pes['Subject'], df_pes['Age'], df_pes['Age_bins'] = df_train['Subject'], df_train['Age'], df_train['Age_bins']\n",
    "col1 = [x for x in df_pes.columns if 'PC_' in x]\n",
    "col2 = []\n",
    "# [3] considers those principal components that are significantly correlated with age\n",
    "for i in col1:\n",
    "    check = scipy.stats.pearsonr(df_pes[i], df_pes['Age'])[1]\n",
    "    if check < 0.1:\n",
    "        col2.append(i)\n",
    "df_train = df_pes\n",
    "c = col2\n",
    "\"\"\"\n"
   ]
  },
  {
   "cell_type": "code",
   "execution_count": 10,
   "metadata": {},
   "outputs": [
    {
     "name": "stderr",
     "output_type": "stream",
     "text": [
      "c:\\python\\lib\\site-packages\\sklearn\\model_selection\\_split.py:672: UserWarning: The least populated class in y has only 3 members, which is less than n_splits=5.\n",
      "  % (min_groups, self.n_splits)), UserWarning)\n"
     ]
    },
    {
     "name": "stdout",
     "output_type": "stream",
     "text": [
      "0.47\n",
      "0.61\n",
      "0.53\n",
      "0.57\n",
      "0.55\n"
     ]
    },
    {
     "name": "stderr",
     "output_type": "stream",
     "text": [
      "c:\\python\\lib\\site-packages\\sklearn\\model_selection\\_split.py:672: UserWarning: The least populated class in y has only 3 members, which is less than n_splits=5.\n",
      "  % (min_groups, self.n_splits)), UserWarning)\n"
     ]
    },
    {
     "name": "stdout",
     "output_type": "stream",
     "text": [
      "0.47\n",
      "0.61\n",
      "0.53\n",
      "0.57\n",
      "0.55\n",
      "0.54\n",
      "0.53\n",
      "0.53\n",
      "0.53\n",
      "0.52\n"
     ]
    },
    {
     "name": "stderr",
     "output_type": "stream",
     "text": [
      "c:\\python\\lib\\site-packages\\sklearn\\model_selection\\_split.py:672: UserWarning: The least populated class in y has only 3 members, which is less than n_splits=5.\n",
      "  % (min_groups, self.n_splits)), UserWarning)\n"
     ]
    },
    {
     "name": "stdout",
     "output_type": "stream",
     "text": [
      "0.47\n",
      "0.61\n",
      "0.53\n",
      "0.57\n",
      "0.55\n",
      "0.54\n",
      "0.53\n",
      "0.53\n",
      "0.53\n",
      "0.52\n",
      "0.52\n",
      "0.51\n",
      "0.50\n",
      "0.50\n",
      "0.49\n"
     ]
    },
    {
     "data": {
      "text/plain": [
       "'fig, ax = plt.subplots(1, 1, figsize=(10, 7))\\nsns.set_style(\"darkgrid\")\\nplt.scatter(y_true, y_pred)\\nplt.plot(y_true, y_true)\\nxmin, xmax = ax.get_xlim()\\nymin, ymax = ax.get_ylim()\\ntext = \\'MAE: \\' + str(mae) + \\'   CORR: \\' + str(corr)\\nax.set(xlabel=\\'True values\\', ylabel=\\'Predicted values\\')\\nplt.title(\\'Actual vs Predicted\\')\\nplt.text(xmax - 0.01 * xmax, ymax - 0.01 * ymax, text, verticalalignment=\\'top\\',\\n         horizontalalignment=\\'right\\', fontsize=12)\\nplt.axis(\\'scaled\\')\\nplt.show()'"
      ]
     },
     "execution_count": 10,
     "metadata": {},
     "output_type": "execute_result"
    }
   ],
   "source": [
    "rand_seed = 42\n",
    "num_bins = 5\n",
    "rvm = RVC()\n",
    "svm = SVC()\n",
    "rfc = RandomForestClassifier()\n",
    "models = [rvm, svm, rfc]\n",
    "model_names = ['rvr', 'svm', 'rfc']\n",
    "splits = 5\n",
    "\n",
    "model_results = []\n",
    "scores_results = []\n",
    "res = {}\n",
    "res['model'] = []\n",
    "res['iter'] = []\n",
    "res['pred'] = []\n",
    "res['ind'] = []\n",
    "# res = pd.Series(index=df_train.index)\n",
    "for i, model in enumerate(models):\n",
    "    cv = StratifiedKFold(n_splits=splits).split(df_train[c],\n",
    "                                                df_train['Age_bins'])\n",
    "    cv = list(cv)\n",
    "    scores, final_model = run_cross_validation(X=c, y='Age_bin',\n",
    "                                         # preprocess_X='scaler_robust',\n",
    "                                         # problem_type='classification',\n",
    "                                         data=df_train,\n",
    "                                         model=model, cv=cv,\n",
    "                                         return_estimator='all',\n",
    "                                         seed=rand_seed,\n",
    "                                         scoring=['accuracy'])\n",
    "    model_results.append(final_model)\n",
    "    scores_results.append(scores)\n",
    "    for iter in range(splits):\n",
    "        pred = scores.estimator[iter].predict(df_train.iloc[cv[iter][1]][c])\n",
    "        res['pred'].append(pred)\n",
    "        res['iter'].append(iter)\n",
    "        res['model'].append(str(model))\n",
    "        res['ind'].append(cv[iter][1])\n",
    "\n",
    "    df_res = pd.DataFrame(res)\n",
    "    age_pred = {}\n",
    "    age_pred['subj'] = []\n",
    "    age_pred['pred'] = []\n",
    "    age_pred['real'] = []\n",
    "    for i, fold in enumerate(df_res['ind']):\n",
    "        for ind, sample in enumerate(fold):\n",
    "            age_pred['real'].append(df_train.iloc[sample]['Age_bin'])\n",
    "            age_pred['pred'].append(df_res['pred'].iloc[i][ind])\n",
    "            age_pred['subj'].append(df_train.iloc[sample]['Subject'])\n",
    "\n",
    "        df_ages = pd.DataFrame(age_pred)\n",
    "\n",
    "        y_true = age_pred['real']\n",
    "        y_pred = age_pred['pred']\n",
    "    \n",
    "        ba = format(balanced_accuracy_score(y_true, y_pred), '.2f')\n",
    "        #mae = format(mean_absolute_error(y_true, y_pred), '.2f')\n",
    "        #corr = format(np.corrcoef(y_pred, y_true)[1, 0], '.2f')\n",
    "        print(ba)\n",
    "\n",
    "\"\"\"fig, ax = plt.subplots(1, 1, figsize=(10, 7))\n",
    "sns.set_style(\"darkgrid\")\n",
    "plt.scatter(y_true, y_pred)\n",
    "plt.plot(y_true, y_true)\n",
    "xmin, xmax = ax.get_xlim()\n",
    "ymin, ymax = ax.get_ylim()\n",
    "text = 'MAE: ' + str(mae) + '   CORR: ' + str(corr)\n",
    "ax.set(xlabel='True values', ylabel='Predicted values')\n",
    "plt.title('Actual vs Predicted')\n",
    "plt.text(xmax - 0.01 * xmax, ymax - 0.01 * ymax, text, verticalalignment='top',\n",
    "         horizontalalignment='right', fontsize=12)\n",
    "plt.axis('scaled')\n",
    "plt.show()\"\"\"\n"
   ]
  },
  {
   "cell_type": "code",
   "execution_count": 11,
   "metadata": {},
   "outputs": [
    {
     "name": "stdout",
     "output_type": "stream",
     "text": [
      "68.0\n"
     ]
    },
    {
     "data": {
      "text/plain": [
       "array([[14, 18],\n",
       "       [12, 24]], dtype=int64)"
      ]
     },
     "execution_count": 11,
     "metadata": {},
     "output_type": "execute_result"
    }
   ],
   "source": [
    "print(len(y_true)/3)\n",
    "y_true_ = y_true[:int(len(y_true)/3)]\n",
    "y_pred_ = y_pred[:int(len(y_pred)/3)]\n",
    "confusion_matrix(y_true_, y_pred_)"
   ]
  },
  {
   "cell_type": "code",
   "execution_count": null,
   "metadata": {},
   "outputs": [],
   "source": [
    "print(\"RESULTS\")\n",
    "print(\"\\nRIDGE VECTOR REGRESSION:\\nR2: \", np.round(np.mean(scores_results[0]['test_r2']),2),\n",
    "      \"\\nMAE: \", np.abs(np.round(np.mean(scores_results[0]['test_neg_mean_absolute_error']),2)))\n",
    "print(\"\\nSUPPORT VECTOR MACHINE:\\nR2: \", np.round(np.mean(scores_results[1]['test_r2']),2),\n",
    "      \"\\nMAE: \", np.abs(np.round(np.mean(scores_results[1]['test_neg_mean_absolute_error']),2)))\n"
   ]
  },
  {
   "cell_type": "markdown",
   "metadata": {},
   "source": [
    "### Plot Relevant Regions"
   ]
  },
  {
   "cell_type": "code",
   "execution_count": null,
   "metadata": {},
   "outputs": [],
   "source": [
    "# permutation importance\n",
    "rvr.fit(X,y)\n",
    "rvr_feature_importance = permutation_importance(model_r[0]['rvr'],X,y, scoring=\"r2\")\n",
    "svm = SVR().fit(X,y)\n",
    "svr_feature_importance = permutation_importance(svm,X,y, scoring=\"r2\")\n",
    "fig,ax = plt.subplots(1,2, figsize = (15,5))\n",
    "ax[0].bar(range(X.shape[1]),rvr_feature_importance.importances_mean)\n",
    "ax[1].bar(range(X.shape[1]),svr_feature_importance.importances_mean)\n",
    "plt.show()"
   ]
  },
  {
   "cell_type": "code",
   "execution_count": null,
   "metadata": {},
   "outputs": [],
   "source": [
    "# threshold importance indication for better interpretability\n",
    "rvr_imp = [x if x>=0.001 or x<-0.001 else 0 for x in rvr_feature_importance.importances_mean]\n",
    "svr_imp = [x if x>=0.002 else 0 for x in svr_feature_importance.importances_mean]\n",
    "\n",
    "# labels\n",
    "rvr_labels = [col[x] if rvr_imp[x]!=0 else \"\" for x in range(200)]\n",
    "svr_labels = [col[x] if svr_imp[x]!=0 else \"\" for x in range(200)]"
   ]
  },
  {
   "cell_type": "code",
   "execution_count": null,
   "metadata": {},
   "outputs": [],
   "source": [
    "fig,ax = plt.subplots(1,2, figsize = (15,5))\n",
    "ax[0].bar(range(X.shape[1]),rvr_imp)\n",
    "ax[0].set_title(\"RVR\")\n",
    "ax[0].hlines(0,0,200,color='black', linewidth = 0.5)\n",
    "plt.sca(ax[0])\n",
    "plt.xticks(range(200),rvr_labels, rotation = 90)\n",
    "ax[1].bar(range(X.shape[1]),svr_imp)\n",
    "ax[1].set_title(\"SVR\")\n",
    "plt.sca(ax[1])\n",
    "plt.xticks(range(200),svr_labels, rotation = 90)\n",
    "plt.show()"
   ]
  },
  {
   "cell_type": "markdown",
   "metadata": {},
   "source": [
    "### Plot Relevant Regions in Glass Brain"
   ]
  },
  {
   "cell_type": "code",
   "execution_count": null,
   "metadata": {},
   "outputs": [],
   "source": [
    "schaefer = fetch_atlas_schaefer_2018(n_rois = 200, yeo_networks = 17)\n",
    "atlas = image.load_img(schaefer.maps)\n",
    "atlas_matrix = image.get_data(atlas)"
   ]
  },
  {
   "cell_type": "code",
   "execution_count": null,
   "metadata": {},
   "outputs": [],
   "source": [
    "# create statistical map where each voxel value coresponds to permutation importance\n",
    "rvr_imp = rvr_feature_importance.importances_mean\n",
    "atlas_matrix_stat = atlas_matrix.copy()\n",
    "\n",
    "for x in range(201):\n",
    "    if x == 0: \n",
    "        pass\n",
    "    else:\n",
    "        atlas_matrix_stat[atlas_matrix_stat==x] = rvr_imp[x-1]\n",
    "atlas_rvr = image.new_img_like(atlas, atlas_matrix_stat)\n"
   ]
  },
  {
   "cell_type": "code",
   "execution_count": null,
   "metadata": {},
   "outputs": [],
   "source": [
    "svr_imp = svr_feature_importance.importances_mean\n",
    "atlas_matrix_stat_svr = atlas_matrix.copy()\n",
    "\n",
    "for x in range(201):\n",
    "    if x == 0: \n",
    "        pass\n",
    "    else:\n",
    "        atlas_matrix_stat_svr[atlas_matrix_stat_svr==x] = svr_imp[x-1]\n",
    "atlas_svr = image.new_img_like(atlas, atlas_matrix_stat_svr)"
   ]
  },
  {
   "cell_type": "code",
   "execution_count": null,
   "metadata": {},
   "outputs": [],
   "source": [
    "fix, ax = plt.subplots(1,2, figsize=(15,5))\n",
    "plotting.plot_stat_map(atlas_rvr, axes = ax[0])\n",
    "ax[0].set_title(\"RVR-relevant regions for aging\")\n",
    "plotting.plot_stat_map(atlas_svr, axes = ax[1])\n",
    "ax[1].set_title(\"SVR-relevant regions for aging\")\n",
    "plt.show()"
   ]
  },
  {
   "cell_type": "markdown",
   "metadata": {},
   "source": [
    "### Performance on test set"
   ]
  },
  {
   "cell_type": "code",
   "execution_count": null,
   "metadata": {},
   "outputs": [],
   "source": [
    "df_test = df[df['train'] == \"F\"]\n",
    "df_test['Age'] = np.around(df_test['Age'].astype(int))\n",
    "df_test = df_test.reset_index(drop=True)\n",
    "\n",
    "col = [x for x in df_test.columns if 'H_' in x]\n",
    "\n",
    "y_test = df_test['Age'].values\n",
    "# round to no decimal place\n",
    "y_test = np.around(y_test).astype(int)"
   ]
  },
  {
   "cell_type": "code",
   "execution_count": null,
   "metadata": {},
   "outputs": [],
   "source": [
    "pred = model_results[0]['rvr'].predict(df_test[col])\n",
    "# uncomment for PCA\n",
    "\"\"\"\n",
    "pes_test = pca.transform(df_test[col].values)\n",
    "pred = model_results[0]['rvr'].predict(np.array(pes_test)[:,col2_ind])\n",
    "\"\"\"\n",
    "mae = format(mean_absolute_error(y_test, pred), '.2f')\n",
    "corr = format(np.corrcoef(y_test, pred)[1, 0], '.2f')\n",
    "\n",
    "print(len(pred),len(y_test))\n",
    "fig, ax = plt.subplots(1, 1, figsize=(10, 7))\n",
    "plt.scatter(y_test, pred)\n",
    "plt.plot(y_test,y_test)\n",
    "plt.xlabel(\"Ground truth\")\n",
    "plt.ylabel(\"RVR Prediction\")\n",
    "plt.xlim(50,80)\n",
    "plt.ylim(50,80)\n",
    "text = 'MAE: ' + str(mae) + '   CORR: ' + str(corr)\n",
    "ax.set(xlabel='True values', ylabel='Predicted values')\n",
    "plt.title('Actual vs Predicted')\n",
    "xmin, xmax = ax.get_xlim()\n",
    "ymin, ymax = ax.get_ylim()\n",
    "plt.text(xmax - 0.01 * xmax, ymin + 0.05 * ymin, text, verticalalignment='top',\n",
    "         horizontalalignment='right', fontsize=12)\n",
    "\n",
    "plt.show()"
   ]
  },
  {
   "cell_type": "code",
   "execution_count": null,
   "metadata": {},
   "outputs": [],
   "source": []
  }
 ],
 "metadata": {
  "kernelspec": {
   "display_name": "Python 3",
   "language": "python",
   "name": "python3"
  },
  "language_info": {
   "codemirror_mode": {
    "name": "ipython",
    "version": 3
   },
   "file_extension": ".py",
   "mimetype": "text/x-python",
   "name": "python",
   "nbconvert_exporter": "python",
   "pygments_lexer": "ipython3",
   "version": "3.7.9"
  }
 },
 "nbformat": 4,
 "nbformat_minor": 4
}
