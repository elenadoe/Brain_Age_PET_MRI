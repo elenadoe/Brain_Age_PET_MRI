{
 "cells": [
  {
   "cell_type": "code",
   "execution_count": 13,
   "metadata": {},
   "outputs": [
    {
     "name": "stderr",
     "output_type": "stream",
     "text": [
      "c:\\python\\lib\\site-packages\\sklearn\\model_selection\\_split.py:672: UserWarning: The least populated class in y has only 4 members, which is less than n_splits=5.\n",
      "  % (min_groups, self.n_splits)), UserWarning)\n",
      "c:\\python\\lib\\site-packages\\sklearn\\model_selection\\_split.py:672: UserWarning: The least populated class in y has only 4 members, which is less than n_splits=5.\n",
      "  % (min_groups, self.n_splits)), UserWarning)\n"
     ]
    }
   ],
   "source": [
    "import pandas as pd\n",
    "import numpy as np\n",
    "import matplotlib.pyplot as plt\n",
    "import sys\n",
    "# pip install https://github.com/JamesRitchie/scikit-rvm/archive/master.zip\n",
    "from skrvm import RVR\n",
    "from sklearn.svm import SVR\n",
    "from julearn import run_cross_validation\n",
    "from julearn.utils import configure_logging\n",
    "from nilearn.datasets import fetch_atlas_schaefer_2018\n",
    "from nilearn import plotting\n",
    "from nilearn import image\n",
    "from sklearn.model_selection import train_test_split, StratifiedKFold\n",
    "from sklearn.inspection import permutation_importance\n",
    "sys.path.append(\"../lib\")\n",
    "from create_splits import stratified_splits\n",
    "\n",
    "#configure_logging(level='INFO')\n",
    "# in case seaborn conflicts with autocomplete\n",
    "df = pd.read_csv('../data/test_train_FDG.csv', index_col=0)\n",
    "\n",
    "df_train = df[df['train'] == \"T\"]\n",
    "col = [x for x in df_train.columns if 'H_' in x]\n",
    "\n",
    "X = df_train[col].values\n",
    "y_pseudo = df_train['Age_bins'].values\n",
    "y = df_train['Age'].values\n",
    "# round to no decimal place\n",
    "y = np.around(y).astype(int)\n",
    "\n",
    "rand_seed = 42\n",
    "num_bins = 5\n",
    "rvr = RVR()\n",
    "models = [rvr, 'svm']\n",
    "model_names = ['rvr', 'svm']\n",
    "\n",
    "# creates dictionary of test indices for different repeats\n",
    "score_results = []\n",
    "model_results = []\n",
    "for i, model in enumerate(models):\n",
    "    cv = StratifiedKFold(n_splits=num_bins).split(X, y_pseudo)\n",
    "    scores, model =run_cross_validation(X=X, y=y,\n",
    "                                  #preprocess_X='scaler_robust',\n",
    "                                  problem_type='regression',\n",
    "                                  model=model, cv=cv,\n",
    "                                  return_estimator='final',\n",
    "                                  seed=rand_seed, scoring=['r2', 'neg_mean_absolute_error'])\n",
    "    score_results.append(scores)\n",
    "    model_results.append(model)\n"
   ]
  },
  {
   "cell_type": "code",
   "execution_count": 14,
   "metadata": {},
   "outputs": [
    {
     "name": "stdout",
     "output_type": "stream",
     "text": [
      "RESULTS\n",
      "\n",
      "RIDGE VECTOR REGRESSION:\n",
      "R2:  -0.09 \n",
      "MAE:  5.5\n",
      "\n",
      "SUPPORT VECTOR MACHINE:\n",
      "R2:  -0.01 \n",
      "MAE:  5.17\n"
     ]
    }
   ],
   "source": [
    "print(\"RESULTS\")\n",
    "print(\"\\nRIDGE VECTOR REGRESSION:\\nR2: \", np.round(np.mean(score_results[0]['test_r2']),2),\n",
    "      \"\\nMAE: \", np.abs(np.round(np.mean(score_results[0]['test_neg_mean_absolute_error']),2)))\n",
    "print(\"\\nSUPPORT VECTOR MACHINE:\\nR2: \", np.round(np.mean(score_results[1]['test_r2']),2),\n",
    "      \"\\nMAE: \", np.abs(np.round(np.mean(score_results[1]['test_neg_mean_absolute_error']),2)))\n"
   ]
  },
  {
   "cell_type": "markdown",
   "metadata": {},
   "source": [
    "### Plot Relevant Regions"
   ]
  },
  {
   "cell_type": "code",
   "execution_count": null,
   "metadata": {},
   "outputs": [],
   "source": [
    "# permutation importance\n",
    "rvr.fit(X,y)\n",
    "rvr_feature_importance = permutation_importance(model_results[0]['rvr'],X,y, scoring=\"r2\")\n",
    "svm = SVR().fit(X,y)\n",
    "svr_feature_importance = permutation_importance(svm,X,y, scoring=\"r2\")\n",
    "fig,ax = plt.subplots(1,2, figsize = (15,5))\n",
    "ax[0].bar(range(X.shape[1]),rvr_feature_importance.importances_mean)\n",
    "ax[1].bar(range(X.shape[1]),svr_feature_importance.importances_mean)\n",
    "plt.show()"
   ]
  },
  {
   "cell_type": "code",
   "execution_count": null,
   "metadata": {},
   "outputs": [],
   "source": [
    "# threshold importance indication for better interpretability\n",
    "rvr_imp = [x if x>=0.001 or x<-0.001 else 0 for x in rvr_feature_importance.importances_mean]\n",
    "svr_imp = [x if x>=0.002 else 0 for x in svr_feature_importance.importances_mean]\n",
    "\n",
    "# labels\n",
    "rvr_labels = [col[x] if rvr_imp[x]!=0 else \"\" for x in range(200)]\n",
    "svr_labels = [col[x] if svr_imp[x]!=0 else \"\" for x in range(200)]"
   ]
  },
  {
   "cell_type": "code",
   "execution_count": null,
   "metadata": {},
   "outputs": [],
   "source": [
    "fig,ax = plt.subplots(1,2, figsize = (15,5))\n",
    "ax[0].bar(range(X.shape[1]),rvr_imp)\n",
    "ax[0].set_title(\"RVR\")\n",
    "ax[0].hlines(0,0,200,color='black', linewidth = 0.5)\n",
    "plt.sca(ax[0])\n",
    "plt.xticks(range(200),rvr_labels, rotation = 90)\n",
    "ax[1].bar(range(X.shape[1]),svr_imp)\n",
    "ax[1].set_title(\"SVR\")\n",
    "plt.sca(ax[1])\n",
    "plt.xticks(range(200),svr_labels, rotation = 90)\n",
    "plt.show()"
   ]
  },
  {
   "cell_type": "markdown",
   "metadata": {},
   "source": [
    "### Plot Relevant Regions in Glass Brain"
   ]
  },
  {
   "cell_type": "code",
   "execution_count": null,
   "metadata": {},
   "outputs": [],
   "source": [
    "schaefer = fetch_atlas_schaefer_2018(n_rois = 200, yeo_networks = 17)\n",
    "atlas = image.load_img(schaefer.maps)\n",
    "atlas_matrix = image.get_data(atlas)"
   ]
  },
  {
   "cell_type": "code",
   "execution_count": null,
   "metadata": {},
   "outputs": [],
   "source": [
    "# create statistical map where each voxel value coresponds to permutation importance\n",
    "rvr_imp = rvr_feature_importance.importances_mean\n",
    "atlas_matrix_stat = atlas_matrix.copy()\n",
    "\n",
    "for x in range(201):\n",
    "    if x == 0: \n",
    "        pass\n",
    "    else:\n",
    "        atlas_matrix_stat[atlas_matrix_stat==x] = rvr_imp[x-1]\n",
    "atlas_rvr = image.new_img_like(atlas, atlas_matrix_stat)\n"
   ]
  },
  {
   "cell_type": "code",
   "execution_count": null,
   "metadata": {},
   "outputs": [],
   "source": [
    "svr_imp = svr_feature_importance.importances_mean\n",
    "atlas_matrix_stat_svr = atlas_matrix.copy()\n",
    "\n",
    "for x in range(201):\n",
    "    if x == 0: \n",
    "        pass\n",
    "    else:\n",
    "        atlas_matrix_stat_svr[atlas_matrix_stat_svr==x] = svr_imp[x-1]\n",
    "atlas_svr = image.new_img_like(atlas, atlas_matrix_stat_svr)"
   ]
  },
  {
   "cell_type": "code",
   "execution_count": null,
   "metadata": {},
   "outputs": [],
   "source": [
    "fix, ax = plt.subplots(1,2, figsize=(15,5))\n",
    "plotting.plot_stat_map(atlas_rvr, axes = ax[0])\n",
    "ax[0].set_title(\"RVR-relevant regions for aging\")\n",
    "plotting.plot_stat_map(atlas_svr, axes = ax[1])\n",
    "ax[1].set_title(\"SVR-relevant regions for aging\")\n",
    "plt.show()"
   ]
  },
  {
   "cell_type": "markdown",
   "metadata": {},
   "source": [
    "### Performance on test set"
   ]
  },
  {
   "cell_type": "code",
   "execution_count": null,
   "metadata": {},
   "outputs": [],
   "source": [
    "df_test = df[df['train'] == \"F\"]\n",
    "col = [x for x in df_train.columns if 'H_' in x]\n",
    "\n",
    "X_test = df_test[col].values\n",
    "#y_pseudo = df_test['Age_bins']\n",
    "y_test = df_test['Age'].values\n",
    "# round to no decimal place\n",
    "y_test = np.around(y_test).astype(int)"
   ]
  },
  {
   "cell_type": "code",
   "execution_count": null,
   "metadata": {},
   "outputs": [],
   "source": [
    "pred = model_results[0]['rvr'].predict(X_test)\n",
    "plt.scatter(y_test, pred)\n",
    "plt.xlabel(\"Ground truth\")\n",
    "plt.ylabel(\"RVR Prediction\")\n",
    "plt.xlim(50,80)\n",
    "plt.ylim(50,80)\n",
    "plt.show()"
   ]
  },
  {
   "cell_type": "code",
   "execution_count": null,
   "metadata": {},
   "outputs": [],
   "source": []
  }
 ],
 "metadata": {
  "kernelspec": {
   "display_name": "Python 3",
   "language": "python",
   "name": "python3"
  },
  "language_info": {
   "codemirror_mode": {
    "name": "ipython",
    "version": 3
   },
   "file_extension": ".py",
   "mimetype": "text/x-python",
   "name": "python",
   "nbconvert_exporter": "python",
   "pygments_lexer": "ipython3",
   "version": "3.7.9"
  }
 },
 "nbformat": 4,
 "nbformat_minor": 4
}
