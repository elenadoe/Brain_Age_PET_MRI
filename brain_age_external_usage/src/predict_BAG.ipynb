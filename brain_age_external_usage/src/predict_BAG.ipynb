{
 "cells": [
  {
   "cell_type": "markdown",
   "metadata": {},
   "source": [
    "## Demonstration of BAG prediction UI using ADNI AD data"
   ]
  },
  {
   "cell_type": "code",
   "execution_count": 1,
   "metadata": {},
   "outputs": [
    {
     "name": "stderr",
     "output_type": "stream",
     "text": [
      "/opt/anaconda/anaconda3/lib/python3.8/site-packages/scipy/__init__.py:146: UserWarning: A NumPy version >=1.16.5 and <1.23.0 is required for this version of SciPy (detected version 1.23.1\n",
      "  warnings.warn(f\"A NumPy version >={np_minversion} and <{np_maxversion}\"\n",
      "/opt/anaconda/anaconda3/lib/python3.8/site-packages/nilearn/input_data/__init__.py:23: FutureWarning: The import path 'nilearn.input_data' is deprecated in version 0.9. Importing from 'nilearn.input_data' will be possible at least until release 0.13.0. Please import from 'nilearn.maskers' instead.\n",
      "  warnings.warn(message, FutureWarning)\n"
     ]
    }
   ],
   "source": [
    "from estimate_bag import estimate_bag"
   ]
  },
  {
   "cell_type": "code",
   "execution_count": 2,
   "metadata": {},
   "outputs": [
    {
     "name": "stdout",
     "output_type": "stream",
     "text": [
      "##### BAG estimation #####\n",
      "Required for BAG estimation: the directory where Nifti scans are stored and a csv file indicating the true (chronological) age of each subject.\n",
      "\n",
      "                      Enter path where scans are stored in Nifti format.\n",
      "../test_data_AD\n",
      "\n",
      "                     Enter modality of the scan(s). (MRI or FDG-PET)\n",
      "FDG-PET\n",
      "\n",
      "                      Was the data pre-processed according to Doering et al.? (True or False)\n",
      "True\n",
      "\n",
      "                      Is this ADNI data? (True or False)\n",
      "True\n",
      "Note that the model has been trained on ADNI data, BAG estimates may be skewed.\n",
      "\n",
      "\n",
      "                  Please enter chronological (true) age of all subjects\n",
      "                  in the csv file, which was stored at ../results/AAL1_parcels.csv. Enter 'done' when done.done\n",
      "Model 0:\n",
      "n =  9 mean age =  77.33 4.62\n",
      "Bias between chronological age and BPAD eliminated: False (r = -0.7758666282058857 p = 0.013985559476438304 )\n",
      "MAE: 8.32545639308613, R2: -4.077086089252209\n",
      "Model 1:\n",
      "Bias between chronological age and BPAD eliminated: True (r = -0.4658287436200866 p = 0.2063112664301383 )\n",
      "MAE: 4.5165887821757735, R2: -0.6334040124748517\n",
      "Model 2:\n",
      "Bias between chronological age and BPAD eliminated: False (r = -0.9989250577763508 p = 1.3394638985015503e-10 )\n",
      "MAE: 2.0171730570899564, R2: 0.7547266920523743\n",
      "Model 3:\n",
      "Bias between chronological age and BPAD eliminated: False (r = -0.8591051515798871 p = 0.00300351867041825 )\n",
      "MAE: 4.6622425208464415, R2: -0.6169385472232551\n",
      "Model 4:\n",
      "Bias between chronological age and BPAD eliminated: False (r = -0.7562573729232529 p = 0.01837119482108037 )\n",
      "MAE: 3.7306887774865376, R2: 0.11319626914705072\n",
      "Results stored under ../results/PET-predicted_BAG.csv\n"
     ]
    },
    {
     "data": {
      "image/png": "[encoded data removed]",
      "text/plain": [
       "<Figure size 432x288 with 1 Axes>"
      ]
     },
     "metadata": {
      "needs_background": "light"
     },
     "output_type": "display_data"
    }
   ],
   "source": [
    "estimate_bag()"
   ]
  },
  {
   "cell_type": "code",
   "execution_count": null,
   "metadata": {},
   "outputs": [],
   "source": []
  }
 ],
 "metadata": {
  "kernelspec": {
   "display_name": "Python 3",
   "language": "python",
   "name": "python3"
  },
  "language_info": {
   "codemirror_mode": {
    "name": "ipython",
    "version": 3
   },
   "file_extension": ".py",
   "mimetype": "text/x-python",
   "name": "python",
   "nbconvert_exporter": "python",
   "pygments_lexer": "ipython3",
   "version": "3.8.5"
  }
 },
 "nbformat": 4,
 "nbformat_minor": 4
}
