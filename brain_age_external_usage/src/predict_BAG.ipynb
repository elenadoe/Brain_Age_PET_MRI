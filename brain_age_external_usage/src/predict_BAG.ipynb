{
 "cells": [
  {
   "cell_type": "code",
   "execution_count": null,
   "metadata": {},
   "outputs": [],
   "source": [
    "from glob import glob\n",
    "import pandas as pd\n",
    "import sys\n",
    "import os\n",
    "import pickle\n",
    "import numpy as np\n",
    "\n",
    "from utils_ import make_parcels, predict"
   ]
  },
  {
   "cell_type": "code",
   "execution_count": null,
   "metadata": {},
   "outputs": [],
   "source": [
    "def estimate_bag():\n",
    "    print(\"##### BAG estimation #####\")\n",
    "    # get data directories\n",
    "    print(\"Required for BAG estimation: the directory where Nifti scans are stored and a csv file indicating the true (chronological) age of each subject.\")\n",
    "    dir_scans = input(\"Enter path where scans are stored in Nifti format.\\n\")\n",
    "    dir_csv = input(\"Enter full path where csv file containing the age of all subjects is stored as a column.\\n\")\n",
    "    scans_ = glob(dir_scans+\"/**.nii\")\n",
    "\n",
    "    assert len(scans_)>0, \"no Nifti files found in directory and subdirectories\"\n",
    "\n",
    "    # infer modality\n",
    "    modality = input(\"Enter modality of the scan(s). (MRI or FDG-PET)\\n\")\n",
    "    while modality.upper() not in [\"MRI\", \"FDG-PET\"]:\n",
    "        modality = input(\"Invalid modality. Enter modality of the scan(s). (MRI or FDG-PET)\\n\")\n",
    "\n",
    "    # check if prerequisites are fulfilled\n",
    "    prep = eval(input(\"Was the data pre-processed according to Doering et al.? (True or False)\\n\"))\n",
    "    if not prep:\n",
    "        print(\"Note that brain age estimation was only assessed for the preprocessing outlined in Doering et al. BAG estimates may be false.\")\n",
    "    adni = eval(input(\"Is this ADNI data? (True or False)\\n\"))\n",
    "    if adni:\n",
    "        print(\"Note that the model has been trained on ADNI data, BAG estimates may be skewed.\\n\")\n",
    "\n",
    "    # make parcels and require manual entering of chronological age\n",
    "    pause = make_parcels(scans_)\n",
    "    while pause != \"done\" and pause != \"'done'\":\n",
    "        pause = input(\"Please enter chronological (true) age of all subjects in the csv\\\n",
    "            file, which was stored at ../results/AAL1_parcels.csv. Enter 'done' when done.\")\n",
    "\n",
    "    # read df containing AAL parcels and chronological age\n",
    "    df = pd.read_csv(\"../results/AAL1_parcels.csv\")\n",
    "\n",
    "    # don't break if Excel/office program changing separator\n",
    "    if len(df.columns)<2:\n",
    "        df = pd.read_csv(\"../results/AAL1_parcels.csv\", sep=\";\")\n",
    "    len_init = len(df.index)\n",
    "\n",
    "    # label data and assure all subjects are older than 60\n",
    "    df['Dataset'] = \"new_data\"\n",
    "    df['AGE_CHECK'] = df['age'] >= 60\n",
    "    df = df[df['AGE_CHECK']]\n",
    "    if len(df.index)-len_init > 0:\n",
    "        print(\"{} individuals were younger than 60. No BAG estimation was possible.\".format(len(df.index)-len_init))\n",
    "\n",
    "    col = df.columns[2:-2].tolist()\n",
    "    assert col[0] == \"Precentral_L\" and col[-1] == \"Vermis_10\", \"wrong columns selected\"\n",
    "    \n",
    "    # load models from all five folds and predict new data\n",
    "    predictions = []\n",
    "    bags = []\n",
    "    for i in range(5):\n",
    "        model = pickle.load(open(\n",
    "                \"../templates/0_FINAL_MODELS/final_model_{}_AAL1_cropped_True_{}.p\".format(\n",
    "                    modality, i), \"rb\"))\n",
    "        final_model_name = ['svm' if 'svm' in model.named_steps.keys() else 'rvr'][0]\n",
    "        params = pd.read_csv(\n",
    "                \"../templates/0_FINAL_MODELS/\" +\n",
    "                \"models_and_params_{}_AAL1_cropped_True_{}.csv\".format(\n",
    "                    modality, i))\n",
    "        slope_ = params['{}_slope'.format(final_model_name)][0]\n",
    "        intercept_ = params['{}_intercept'.format(final_model_name)][0]\n",
    "        pred_df = predict(df, col, model,\n",
    "                          final_model_name,\n",
    "                          slope_, intercept_, modality,\n",
    "                          r=i)\n",
    "        predictions.append(pred_df['brain age'].tolist())\n",
    "        bags.append(pred_df['BAG'].tolist())\n",
    "\n",
    "    # steal ID and chronological age from last fold, average brain age and BAG over all folds\n",
    "    pred_df['brain age'] = np.mean(predictions)\n",
    "    pred_df['BAG'] = np.mean(bags)\n",
    "    pred_df.to_csv(\"../results/{}-predicted_BAG.csv\".format(modality), index=False)\n",
    "    print(\"Results stored under ../results/{}-predicted_BAG.csv\".format(modality))"
   ]
  },
  {
   "cell_type": "code",
   "execution_count": null,
   "metadata": {},
   "outputs": [],
   "source": [
    "if __name__ == \"__main__\":\n",
    "    estimate_bag()"
   ]
  },
  {
   "cell_type": "code",
   "execution_count": null,
   "metadata": {},
   "outputs": [],
   "source": []
  }
 ],
 "metadata": {
  "kernelspec": {
   "display_name": "Python 3",
   "language": "python",
   "name": "python3"
  },
  "language_info": {
   "codemirror_mode": {
    "name": "ipython",
    "version": 3
   },
   "file_extension": ".py",
   "mimetype": "text/x-python",
   "name": "python",
   "nbconvert_exporter": "python",
   "pygments_lexer": "ipython3",
   "version": "3.8.5"
  }
 },
 "nbformat": 4,
 "nbformat_minor": 4
}
